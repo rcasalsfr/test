{
  "nbformat": 4,
  "nbformat_minor": 0,
  "metadata": {
    "colab": {
      "provenance": [],
      "include_colab_link": true
    },
    "kernelspec": {
      "name": "ir",
      "display_name": "R"
    },
    "language_info": {
      "name": "R"
    }
  },
  "cells": [
    {
      "cell_type": "markdown",
      "metadata": {
        "id": "view-in-github",
        "colab_type": "text"
      },
      "source": [
        "<a href=\"https://colab.research.google.com/github/rcasalsfr/test/blob/main/Dyniverse_R_fer_prova.ipynb\" target=\"_parent\"><img src=\"https://colab.research.google.com/assets/colab-badge.svg\" alt=\"Open In Colab\"/></a>"
      ]
    },
    {
      "cell_type": "markdown",
      "source": [
        "https://jackbibby1.github.io/SCPA/articles/pseudotime.html"
      ],
      "metadata": {
        "id": "5F29PCuiRWBD"
      }
    },
    {
      "cell_type": "markdown",
      "source": [
        "https://github.com/dynverse/dynguidelines"
      ],
      "metadata": {
        "id": "HYGJtPJRLJlk"
      }
    },
    {
      "cell_type": "code",
      "source": [
        "install.packages(\"devtools\")"
      ],
      "metadata": {
        "colab": {
          "base_uri": "https://localhost:8080/"
        },
        "id": "PvO9UyGiKn4Z",
        "outputId": "cc1e88e2-fdd2-407a-d314-981c385a9d07"
      },
      "execution_count": null,
      "outputs": [
        {
          "output_type": "stream",
          "name": "stderr",
          "text": [
            "Installing package into ‘/usr/local/lib/R/site-library’\n",
            "(as ‘lib’ is unspecified)\n",
            "\n",
            "also installing the dependencies ‘textshaping’, ‘ragg’, ‘pkgdown’\n",
            "\n",
            "\n",
            "Warning message in install.packages(\"devtools\"):\n",
            "“installation of package ‘textshaping’ had non-zero exit status”\n",
            "Warning message in install.packages(\"devtools\"):\n",
            "“installation of package ‘ragg’ had non-zero exit status”\n",
            "Warning message in install.packages(\"devtools\"):\n",
            "“installation of package ‘pkgdown’ had non-zero exit status”\n",
            "Warning message in install.packages(\"devtools\"):\n",
            "“installation of package ‘devtools’ had non-zero exit status”\n"
          ]
        }
      ]
    },
    {
      "cell_type": "code",
      "source": [
        "devtools::install_github(\"dynverse/dynguidelines\")"
      ],
      "metadata": {
        "id": "P2YCYZuGLKdw",
        "colab": {
          "base_uri": "https://localhost:8080/"
        },
        "outputId": "930a5e36-4c9f-40e4-fea7-fb43a84434d1"
      },
      "execution_count": null,
      "outputs": [
        {
          "output_type": "stream",
          "name": "stderr",
          "text": [
            "Downloading GitHub repo dynverse/dynguidelines@HEAD\n",
            "\n"
          ]
        },
        {
          "output_type": "stream",
          "name": "stdout",
          "text": [
            "dynutils     (NA     -> f26939ec8...) [GitHub]\n",
            "dynwrap      (NA     -> 250758bc1...) [GitHub]\n",
            "isoband      (0.2.6  -> 0.2.7       ) [CRAN]\n",
            "digest       (0.6.30 -> 0.6.31      ) [CRAN]\n",
            "BH           (NA     -> 1.81.0-1    ) [CRAN]\n",
            "bslib        (0.4.1  -> 0.4.2       ) [CRAN]\n",
            "jsonlite     (1.8.3  -> 1.8.4       ) [CRAN]\n",
            "stringr      (1.4.1  -> 1.5.0       ) [CRAN]\n",
            "plyr         (NA     -> 1.8.8       ) [CRAN]\n",
            "bit          (4.0.4  -> 4.0.5       ) [CRAN]\n",
            "lobstr       (NA     -> 1.1.2       ) [CRAN]\n",
            "RcppArmad... (NA     -> 0.11.4.4.0  ) [CRAN]\n",
            "RcppParallel (NA     -> 5.1.6       ) [CRAN]\n",
            "proxyC       (NA     -> 0.3.3       ) [CRAN]\n",
            "pryr         (NA     -> 0.1.6       ) [CRAN]\n",
            "carrier      (NA     -> 0.1.0       ) [CRAN]\n",
            "gridExtra    (NA     -> 2.3         ) [CRAN]\n",
            "anytime      (NA     -> 0.3.9       ) [CRAN]\n",
            "highr        (0.9    -> 0.10        ) [CRAN]\n",
            "reshape2     (NA     -> 1.4.4       ) [CRAN]\n",
            "igraph       (NA     -> 1.4.0       ) [CRAN]\n",
            "dynparam     (NA     -> 1.0.2       ) [CRAN]\n",
            "babelwhale   (NA     -> 1.1.0       ) [CRAN]\n",
            "sp           (NA     -> 1.6-0       ) [CRAN]\n",
            "viridis      (NA     -> 0.6.2       ) [CRAN]\n",
            "VGAM         (NA     -> 1.1-7       ) [CRAN]\n",
            "shinyWidgets (NA     -> 0.7.6       ) [CRAN]\n",
            "shinyjs      (NA     -> 2.1.0       ) [CRAN]\n",
            "akima        (NA     -> 0.6-3.4     ) [CRAN]\n"
          ]
        },
        {
          "output_type": "stream",
          "name": "stderr",
          "text": [
            "Downloading GitHub repo dynverse/dynutils@HEAD\n",
            "\n"
          ]
        },
        {
          "output_type": "stream",
          "name": "stdout",
          "text": [
            "RcppArmad... (NA    -> 0.11.4.4.0) [CRAN]\n",
            "RcppParallel (NA    -> 5.1.6     ) [CRAN]\n",
            "stringr      (1.4.1 -> 1.5.0     ) [CRAN]\n",
            "proxyC       (NA    -> 0.3.3     ) [CRAN]\n"
          ]
        },
        {
          "output_type": "stream",
          "name": "stderr",
          "text": [
            "Installing 4 packages: RcppArmadillo, RcppParallel, stringr, proxyC\n",
            "\n",
            "Installing packages into ‘/usr/local/lib/R/site-library’\n",
            "(as ‘lib’ is unspecified)\n",
            "\n"
          ]
        },
        {
          "output_type": "stream",
          "name": "stdout",
          "text": [
            "\u001b[36m──\u001b[39m \u001b[36mR CMD build\u001b[39m \u001b[36m─────────────────────────────────────────────────────────────────\u001b[39m\n",
            "* checking for file ‘/tmp/RtmpYPdzvh/remotes6b3d5ba53/dynverse-dynutils-f26939e/DESCRIPTION’ ... OK\n",
            "* preparing ‘dynutils’:\n",
            "* checking DESCRIPTION meta-information ... OK\n",
            "* cleaning src\n",
            "* checking for LF line-endings in source and make files and shell scripts\n",
            "* checking for empty or unneeded directories\n",
            "Removed empty directory ‘dynutils/vignettes/functionality_files/figure-gfm’\n",
            "Removed empty directory ‘dynutils/vignettes/functionality_files’\n",
            "* building ‘dynutils_1.0.11.tar.gz’\n",
            "\n"
          ]
        },
        {
          "output_type": "stream",
          "name": "stderr",
          "text": [
            "Installing package into ‘/usr/local/lib/R/site-library’\n",
            "(as ‘lib’ is unspecified)\n",
            "\n",
            "Downloading GitHub repo dynverse/dynwrap@HEAD\n",
            "\n"
          ]
        },
        {
          "output_type": "stream",
          "name": "stdout",
          "text": [
            "bit        (4.0.4  -> 4.0.5 ) [CRAN]\n",
            "lobstr     (NA     -> 1.1.2 ) [CRAN]\n",
            "pryr       (NA     -> 0.1.6 ) [CRAN]\n",
            "plyr       (NA     -> 1.8.8 ) [CRAN]\n",
            "carrier    (NA     -> 0.1.0 ) [CRAN]\n",
            "digest     (0.6.30 -> 0.6.31) [CRAN]\n",
            "reshape2   (NA     -> 1.4.4 ) [CRAN]\n",
            "igraph     (NA     -> 1.4.0 ) [CRAN]\n",
            "dynparam   (NA     -> 1.0.2 ) [CRAN]\n",
            "babelwhale (NA     -> 1.1.0 ) [CRAN]\n"
          ]
        },
        {
          "output_type": "stream",
          "name": "stderr",
          "text": [
            "Installing 10 packages: bit, lobstr, pryr, plyr, carrier, digest, reshape2, igraph, dynparam, babelwhale\n",
            "\n",
            "Installing packages into ‘/usr/local/lib/R/site-library’\n",
            "(as ‘lib’ is unspecified)\n",
            "\n"
          ]
        },
        {
          "output_type": "stream",
          "name": "stdout",
          "text": [
            "\u001b[36m──\u001b[39m \u001b[36mR CMD build\u001b[39m \u001b[36m─────────────────────────────────────────────────────────────────\u001b[39m\n",
            "* checking for file ‘/tmp/RtmpYPdzvh/remotes6b76c85c7c/dynverse-dynwrap-250758b/DESCRIPTION’ ... OK\n",
            "* preparing ‘dynwrap’:\n",
            "* checking DESCRIPTION meta-information ... OK\n",
            "* checking for LF line-endings in source and make files and shell scripts\n",
            "* checking for empty or unneeded directories\n",
            "* building ‘dynwrap_1.2.2.tar.gz’\n",
            "\n"
          ]
        },
        {
          "output_type": "stream",
          "name": "stderr",
          "text": [
            "Installing package into ‘/usr/local/lib/R/site-library’\n",
            "(as ‘lib’ is unspecified)\n",
            "\n",
            "Installing 27 packages: isoband, digest, BH, bslib, jsonlite, stringr, plyr, bit, lobstr, RcppArmadillo, RcppParallel, proxyC, pryr, carrier, gridExtra, anytime, highr, reshape2, igraph, dynparam, babelwhale, sp, viridis, VGAM, shinyWidgets, shinyjs, akima\n",
            "\n",
            "Installing packages into ‘/usr/local/lib/R/site-library’\n",
            "(as ‘lib’ is unspecified)\n",
            "\n",
            "Skipping install of 'dynutils' from a github remote, the SHA1 (f26939ec) has not changed since last install.\n",
            "  Use `force = TRUE` to force installation\n",
            "\n",
            "Skipping install of 'dynwrap' from a github remote, the SHA1 (250758bc) has not changed since last install.\n",
            "  Use `force = TRUE` to force installation\n",
            "\n"
          ]
        },
        {
          "output_type": "stream",
          "name": "stdout",
          "text": [
            "\u001b[36m──\u001b[39m \u001b[36mR CMD build\u001b[39m \u001b[36m─────────────────────────────────────────────────────────────────\u001b[39m\n",
            "* checking for file ‘/tmp/RtmpYPdzvh/remotes6b6fa36364/dynverse-dynguidelines-57f2da7/DESCRIPTION’ ... OK\n",
            "* preparing ‘dynguidelines’:\n",
            "* checking DESCRIPTION meta-information ... OK\n",
            "* checking for LF line-endings in source and make files and shell scripts\n",
            "* checking for empty or unneeded directories\n",
            "Omitted ‘LazyData’ from DESCRIPTION\n",
            "* building ‘dynguidelines_1.0.1.tar.gz’\n",
            "\n"
          ]
        },
        {
          "output_type": "stream",
          "name": "stderr",
          "text": [
            "Installing package into ‘/usr/local/lib/R/site-library’\n",
            "(as ‘lib’ is unspecified)\n",
            "\n"
          ]
        }
      ]
    },
    {
      "cell_type": "code",
      "source": [
        "devtools::install_github(\"dynverse/dyno\")"
      ],
      "metadata": {
        "colab": {
          "base_uri": "https://localhost:8080/"
        },
        "id": "Bajh7JphBnnl",
        "outputId": "b881b835-53e6-47a1-fbb0-e210ccd61274"
      },
      "execution_count": null,
      "outputs": [
        {
          "output_type": "stream",
          "name": "stderr",
          "text": [
            "Downloading GitHub repo dynverse/dyno@HEAD\n",
            "\n"
          ]
        },
        {
          "output_type": "stream",
          "name": "stdout",
          "text": [
            "dynfeature   (NA    -> 03634ed9a...) [GitHub]\n",
            "dynmethods   (NA    -> 53c6d1d48...) [GitHub]\n",
            "dynplot      (NA    -> d64b25cd5...) [GitHub]\n",
            "RcppEigen    (NA    -> 0.3.3.9.3   ) [CRAN]\n",
            "polyclip     (NA    -> 1.10-4      ) [CRAN]\n",
            "tweenr       (NA    -> 2.0.2       ) [CRAN]\n",
            "graphlayouts (NA    -> 0.8.4       ) [CRAN]\n",
            "tidygraph    (NA    -> 1.2.3       ) [CRAN]\n",
            "ggrepel      (NA    -> 0.9.3       ) [CRAN]\n",
            "ggforce      (NA    -> 0.4.1       ) [CRAN]\n",
            "iterators    (NA    -> 1.0.14      ) [CRAN]\n",
            "foreach      (NA    -> 1.5.2       ) [CRAN]\n",
            "lmds         (NA    -> 0.1.0       ) [CRAN]\n",
            "irlba        (NA    -> 2.3.5.1     ) [CRAN]\n",
            "pkgload      (1.3.1 -> 1.3.2       ) [CRAN]\n",
            "testthat     (3.1.5 -> 3.1.6       ) [CRAN]\n",
            "ranger       (NA    -> 0.14.1      ) [CRAN]\n",
            "vipor        (NA    -> 0.4.5       ) [CRAN]\n",
            "patchwork    (NA    -> 1.1.2       ) [CRAN]\n",
            "ggraph       (NA    -> 2.1.0       ) [CRAN]\n",
            "GA           (NA    -> 3.2.3       ) [CRAN]\n",
            "dyndimred    (NA    -> 1.0.4       ) [CRAN]\n"
          ]
        },
        {
          "output_type": "stream",
          "name": "stderr",
          "text": [
            "Downloading GitHub repo dynverse/dynfeature@master\n",
            "\n"
          ]
        },
        {
          "output_type": "stream",
          "name": "stdout",
          "text": [
            "pkgload   (1.3.1 -> 1.3.2    ) [CRAN]\n",
            "RcppEigen (NA    -> 0.3.3.9.3) [CRAN]\n",
            "testthat  (3.1.5 -> 3.1.6    ) [CRAN]\n",
            "ranger    (NA    -> 0.14.1   ) [CRAN]\n"
          ]
        },
        {
          "output_type": "stream",
          "name": "stderr",
          "text": [
            "Installing 4 packages: pkgload, RcppEigen, testthat, ranger\n",
            "\n",
            "Installing packages into ‘/usr/local/lib/R/site-library’\n",
            "(as ‘lib’ is unspecified)\n",
            "\n"
          ]
        },
        {
          "output_type": "stream",
          "name": "stdout",
          "text": [
            "\u001b[36m──\u001b[39m \u001b[36mR CMD build\u001b[39m \u001b[36m─────────────────────────────────────────────────────────────────\u001b[39m\n",
            "* checking for file ‘/tmp/RtmpYPdzvh/remotes6b2ed4b235/dynverse-dynfeature-03634ed/DESCRIPTION’ ... OK\n",
            "* preparing ‘dynfeature’:\n",
            "* checking DESCRIPTION meta-information ... OK\n",
            "* checking for LF line-endings in source and make files and shell scripts\n",
            "* checking for empty or unneeded directories\n",
            "* building ‘dynfeature_1.0.0.tar.gz’\n",
            "\n"
          ]
        },
        {
          "output_type": "stream",
          "name": "stderr",
          "text": [
            "Installing package into ‘/usr/local/lib/R/site-library’\n",
            "(as ‘lib’ is unspecified)\n",
            "\n",
            "Downloading GitHub repo dynverse/dynmethods@master\n",
            "\n"
          ]
        },
        {
          "output_type": "stream",
          "name": "stdout",
          "text": [
            "textshaping (NA    -> 0.3.6) [CRAN]\n",
            "openssl     (2.0.4 -> 2.0.5) [CRAN]\n",
            "whisker     (0.4   -> 0.4.1) [CRAN]\n",
            "ragg        (NA    -> 1.2.5) [CRAN]\n",
            "gert        (1.9.1 -> 1.9.2) [CRAN]\n",
            "roxygen2    (7.2.2 -> 7.2.3) [CRAN]\n",
            "pkgdown     (NA    -> 2.0.7) [CRAN]\n",
            "devtools    (2.4.3 -> 2.4.5) [CRAN]\n"
          ]
        },
        {
          "output_type": "stream",
          "name": "stderr",
          "text": [
            "Installing 8 packages: textshaping, openssl, whisker, ragg, gert, roxygen2, pkgdown, devtools\n",
            "\n",
            "Installing packages into ‘/usr/local/lib/R/site-library’\n",
            "(as ‘lib’ is unspecified)\n",
            "\n",
            "Warning message in i.p(...):\n",
            "“installation of package ‘textshaping’ had non-zero exit status”\n",
            "Warning message in i.p(...):\n",
            "“installation of package ‘ragg’ had non-zero exit status”\n",
            "Warning message in i.p(...):\n",
            "“installation of package ‘pkgdown’ had non-zero exit status”\n",
            "Warning message in i.p(...):\n",
            "“installation of package ‘devtools’ had non-zero exit status”\n"
          ]
        },
        {
          "output_type": "stream",
          "name": "stdout",
          "text": [
            "\u001b[36m──\u001b[39m \u001b[36mR CMD build\u001b[39m \u001b[36m─────────────────────────────────────────────────────────────────\u001b[39m\n",
            "* checking for file ‘/tmp/RtmpYPdzvh/remotes6b64c64222/dynverse-dynmethods-53c6d1d/DESCRIPTION’ ... OK\n",
            "* preparing ‘dynmethods’:\n",
            "* checking DESCRIPTION meta-information ... OK\n",
            "* checking for LF line-endings in source and make files and shell scripts\n",
            "* checking for empty or unneeded directories\n",
            "* building ‘dynmethods_1.0.5.tar.gz’\n",
            "\n"
          ]
        },
        {
          "output_type": "stream",
          "name": "stderr",
          "text": [
            "Installing package into ‘/usr/local/lib/R/site-library’\n",
            "(as ‘lib’ is unspecified)\n",
            "\n",
            "Downloading GitHub repo dynverse/dynplot@master\n",
            "\n"
          ]
        },
        {
          "output_type": "stream",
          "name": "stdout",
          "text": [
            "polyclip     (NA -> 1.10-4 ) [CRAN]\n",
            "tweenr       (NA -> 2.0.2  ) [CRAN]\n",
            "iterators    (NA -> 1.0.14 ) [CRAN]\n",
            "irlba        (NA -> 2.3.5.1) [CRAN]\n",
            "graphlayouts (NA -> 0.8.4  ) [CRAN]\n",
            "tidygraph    (NA -> 1.2.3  ) [CRAN]\n",
            "ggrepel      (NA -> 0.9.3  ) [CRAN]\n",
            "ggforce      (NA -> 0.4.1  ) [CRAN]\n",
            "foreach      (NA -> 1.5.2  ) [CRAN]\n",
            "lmds         (NA -> 0.1.0  ) [CRAN]\n",
            "vipor        (NA -> 0.4.5  ) [CRAN]\n",
            "patchwork    (NA -> 1.1.2  ) [CRAN]\n",
            "ggraph       (NA -> 2.1.0  ) [CRAN]\n",
            "GA           (NA -> 3.2.3  ) [CRAN]\n",
            "dyndimred    (NA -> 1.0.4  ) [CRAN]\n"
          ]
        },
        {
          "output_type": "stream",
          "name": "stderr",
          "text": [
            "Installing 15 packages: polyclip, tweenr, iterators, irlba, graphlayouts, tidygraph, ggrepel, ggforce, foreach, lmds, vipor, patchwork, ggraph, GA, dyndimred\n",
            "\n",
            "Installing packages into ‘/usr/local/lib/R/site-library’\n",
            "(as ‘lib’ is unspecified)\n",
            "\n"
          ]
        },
        {
          "output_type": "stream",
          "name": "stdout",
          "text": [
            "\u001b[36m──\u001b[39m \u001b[36mR CMD build\u001b[39m \u001b[36m─────────────────────────────────────────────────────────────────\u001b[39m\n",
            "* checking for file ‘/tmp/RtmpYPdzvh/remotes6b2dcaee32/dynverse-dynplot-d64b25c/DESCRIPTION’ ... OK\n",
            "* preparing ‘dynplot’:\n",
            "* checking DESCRIPTION meta-information ... OK\n",
            "* checking for LF line-endings in source and make files and shell scripts\n",
            "* checking for empty or unneeded directories\n",
            "* building ‘dynplot_1.1.2.tar.gz’\n",
            "\n"
          ]
        },
        {
          "output_type": "stream",
          "name": "stderr",
          "text": [
            "Installing package into ‘/usr/local/lib/R/site-library’\n",
            "(as ‘lib’ is unspecified)\n",
            "\n",
            "Installing 19 packages: RcppEigen, polyclip, tweenr, graphlayouts, tidygraph, ggrepel, ggforce, iterators, foreach, lmds, irlba, pkgload, testthat, ranger, vipor, patchwork, ggraph, GA, dyndimred\n",
            "\n",
            "Installing packages into ‘/usr/local/lib/R/site-library’\n",
            "(as ‘lib’ is unspecified)\n",
            "\n",
            "Skipping install of 'dynfeature' from a github remote, the SHA1 (03634ed9) has not changed since last install.\n",
            "  Use `force = TRUE` to force installation\n",
            "\n",
            "Skipping install of 'dynmethods' from a github remote, the SHA1 (53c6d1d4) has not changed since last install.\n",
            "  Use `force = TRUE` to force installation\n",
            "\n",
            "Skipping install of 'dynplot' from a github remote, the SHA1 (d64b25cd) has not changed since last install.\n",
            "  Use `force = TRUE` to force installation\n",
            "\n"
          ]
        },
        {
          "output_type": "stream",
          "name": "stdout",
          "text": [
            "\u001b[36m──\u001b[39m \u001b[36mR CMD build\u001b[39m \u001b[36m─────────────────────────────────────────────────────────────────\u001b[39m\n",
            "* checking for file ‘/tmp/RtmpYPdzvh/remotes6b6b23cafc/dynverse-dyno-c461023/DESCRIPTION’ ... OK\n",
            "* preparing ‘dyno’:\n",
            "* checking DESCRIPTION meta-information ... OK\n",
            "* checking for LF line-endings in source and make files and shell scripts\n",
            "* checking for empty or unneeded directories\n",
            "* building ‘dyno_0.1.2.tar.gz’\n",
            "\n"
          ]
        },
        {
          "output_type": "stream",
          "name": "stderr",
          "text": [
            "Installing package into ‘/usr/local/lib/R/site-library’\n",
            "(as ‘lib’ is unspecified)\n",
            "\n"
          ]
        }
      ]
    },
    {
      "cell_type": "code",
      "source": [
        "dynguidelines::guidelines_shiny()"
      ],
      "metadata": {
        "id": "4qIqnjIwK3fE",
        "colab": {
          "base_uri": "https://localhost:8080/"
        },
        "outputId": "f6636032-d34c-4e14-bbb7-7d4cedfd8432"
      },
      "execution_count": null,
      "outputs": [
        {
          "output_type": "stream",
          "name": "stderr",
          "text": [
            "Loading required package: shiny\n",
            "\n",
            "\n",
            "Listening on http://0.0.0.0:5345\n",
            "\n"
          ]
        }
      ]
    },
    {
      "cell_type": "code",
      "source": [
        "install.packages(\"shiny\")"
      ],
      "metadata": {
        "colab": {
          "base_uri": "https://localhost:8080/"
        },
        "id": "OUPDaf2rhBuc",
        "outputId": "bc579480-298e-4a36-de05-1ba0b3286bd5"
      },
      "execution_count": null,
      "outputs": [
        {
          "output_type": "stream",
          "name": "stderr",
          "text": [
            "Installing package into ‘/usr/local/lib/R/site-library’\n",
            "(as ‘lib’ is unspecified)\n",
            "\n"
          ]
        }
      ]
    },
    {
      "cell_type": "code",
      "source": [
        "devtools::install_github('cole-trapnell-lab/monocle3')"
      ],
      "metadata": {
        "colab": {
          "base_uri": "https://localhost:8080/"
        },
        "id": "HzXuadJkhtSX",
        "outputId": "573dec92-b9f1-479a-9d6c-ba1dc1f01ade"
      },
      "execution_count": null,
      "outputs": [
        {
          "output_type": "stream",
          "name": "stderr",
          "text": [
            "Downloading GitHub repo cole-trapnell-lab/monocle3@HEAD\n",
            "\n"
          ]
        },
        {
          "output_type": "stream",
          "name": "stdout",
          "text": [
            "sitmo        (NA     -> 2.0.2    ) [CRAN]\n",
            "bitops       (NA     -> 1.0-7    ) [CRAN]\n",
            "GenomeInf... (NA     -> 1.2.9    ) [CRAN]\n",
            "RCurl        (NA     -> 1.98-1.10) [CRAN]\n",
            "IRanges      (NA     -> 2.32.0   ) [CRAN]\n",
            "S4Vectors    (NA     -> 0.36.1   ) [CRAN]\n",
            "BiocGenerics (NA     -> 0.44.0   ) [CRAN]\n",
            "proxy        (NA     -> 0.4-27   ) [CRAN]\n",
            "wk           (NA     -> 0.7.1    ) [CRAN]\n",
            "e1071        (NA     -> 1.7-13   ) [CRAN]\n",
            "units        (NA     -> 0.8-1    ) [CRAN]\n",
            "s2           (NA     -> 1.1.2    ) [CRAN]\n",
            "classInt     (NA     -> 0.4-8    ) [CRAN]\n",
            "warp         (NA     -> 0.2.0    ) [CRAN]\n",
            "parallelly   (NA     -> 1.34.0   ) [CRAN]\n",
            "listenv      (NA     -> 0.9.0    ) [CRAN]\n",
            "globals      (NA     -> 0.16.2   ) [CRAN]\n",
            "future       (NA     -> 1.31.0   ) [CRAN]\n",
            "lazyeval     (NA     -> 0.2.2    ) [CRAN]\n",
            "Rhdf5lib     (NA     -> 1.20.0   ) [CRAN]\n",
            "rhdf5filters (NA     -> 1.10.0   ) [CRAN]\n",
            "textshaping  (NA     -> 0.3.6    ) [CRAN]\n",
            "beeswarm     (NA     -> 0.4.0    ) [CRAN]\n",
            "matrixStats  (NA     -> 0.63.0   ) [CRAN]\n",
            "MatrixGen... (NA     -> 1.10.0   ) [CRAN]\n",
            "formatR      (NA     -> 1.14     ) [CRAN]\n",
            "futile.op... (NA     -> 1.0.1    ) [CRAN]\n",
            "lambda.r     (NA     -> 1.2.4    ) [CRAN]\n",
            "DelayedArray (NA     -> 0.24.0   ) [CRAN]\n",
            "zlibbioc     (NA     -> 1.44.0   ) [CRAN]\n",
            "Biobase      (NA     -> 2.58.0   ) [CRAN]\n",
            "XVector      (NA     -> 0.38.0   ) [CRAN]\n",
            "GenomeInfoDb (NA     -> 1.34.9   ) [CRAN]\n",
            "sparseMat... (NA     -> 1.10.0   ) [CRAN]\n",
            "snow         (NA     -> 0.4-4    ) [CRAN]\n",
            "futile.lo... (NA     -> 1.4.3    ) [CRAN]\n",
            "beachmat     (NA     -> 2.14.0   ) [CRAN]\n",
            "DelayedMa... (NA     -> 1.20.0   ) [CRAN]\n",
            "Summarize... (NA     -> 1.28.0   ) [CRAN]\n",
            "GenomicRa... (NA     -> 1.50.2   ) [CRAN]\n",
            "BiocParallel (NA     -> 1.32.5   ) [CRAN]\n",
            "SingleCel... (NA     -> 1.20.0   ) [CRAN]\n",
            "rsvd         (NA     -> 1.0.5    ) [CRAN]\n",
            "ScaledMatrix (NA     -> 1.6.0    ) [CRAN]\n",
            "RcppHNSW     (NA     -> 0.4.1    ) [CRAN]\n",
            "dqrng        (NA     -> 0.3.0    ) [CRAN]\n",
            "RcppProgress (NA     -> 0.4.2    ) [CRAN]\n",
            "RcppAnnoy    (NA     -> 0.0.20   ) [CRAN]\n",
            "FNN          (NA     -> 1.1.3.1  ) [CRAN]\n",
            "deldir       (NA     -> 1.0-6    ) [CRAN]\n",
            "sf           (NA     -> 1.0-9    ) [CRAN]\n",
            "spData       (NA     -> 2.2.1    ) [CRAN]\n",
            "slider       (NA     -> 0.3.0    ) [CRAN]\n",
            "furrr        (NA     -> 0.3.1    ) [CRAN]\n",
            "data.table   (1.14.4 -> 1.14.8   ) [CRAN]\n",
            "crosstalk    (NA     -> 1.2.0    ) [CRAN]\n",
            "zoo          (NA     -> 1.8-11   ) [CRAN]\n",
            "nloptr       (NA     -> 2.0.3    ) [CRAN]\n",
            "minqa        (NA     -> 1.2.5    ) [CRAN]\n",
            "rhdf5        (NA     -> 2.42.0   ) [CRAN]\n",
            "ragg         (NA     -> 1.2.5    ) [CRAN]\n",
            "png          (NA     -> 0.1-8    ) [CRAN]\n",
            "ggbeeswarm   (NA     -> 0.7.1    ) [CRAN]\n",
            "Cairo        (NA     -> 1.6-0    ) [CRAN]\n",
            "ResidualM... (NA     -> 1.8.0    ) [CRAN]\n",
            "scuttle      (NA     -> 1.8.4    ) [CRAN]\n",
            "BiocSingular (NA     -> 1.14.0   ) [CRAN]\n",
            "BiocNeigh... (NA     -> 1.16.0   ) [CRAN]\n",
            "terra        (NA     -> 1.7-3    ) [CRAN]\n",
            "uwot         (NA     -> 0.1.14   ) [CRAN]\n",
            "speedglm     (NA     -> 0.3-4    ) [CRAN]\n",
            "spdep        (NA     -> 1.2-7    ) [CRAN]\n",
            "slam         (NA     -> 0.1-50   ) [CRAN]\n",
            "Rtsne        (NA     -> 0.16     ) [CRAN]\n",
            "RhpcBLASctl  (NA     -> 0.23-42  ) [CRAN]\n",
            "rsample      (NA     -> 1.1.1    ) [CRAN]\n",
            "RANN         (NA     -> 2.6.1    ) [CRAN]\n",
            "pscl         (NA     -> 1.5.5    ) [CRAN]\n",
            "plotly       (NA     -> 4.10.1   ) [CRAN]\n",
            "pheatmap     (NA     -> 1.0.12   ) [CRAN]\n",
            "pbmcapply    (NA     -> 1.5.1    ) [CRAN]\n",
            "pbapply      (NA     -> 1.7-0    ) [CRAN]\n",
            "lmtest       (NA     -> 0.9-40   ) [CRAN]\n",
            "lme4         (NA     -> 1.1-31   ) [CRAN]\n",
            "limma        (NA     -> 3.54.1   ) [CRAN]\n",
            "leidenbase   (NA     -> 0.1.14   ) [CRAN]\n",
            "HDF5Array    (NA     -> 1.26.0   ) [CRAN]\n",
            "grr          (NA     -> 0.9.5    ) [CRAN]\n",
            "ggrastr      (NA     -> 1.0.1    ) [CRAN]\n",
            "batchelor    (NA     -> 1.14.1   ) [CRAN]\n"
          ]
        },
        {
          "output_type": "stream",
          "name": "stderr",
          "text": [
            "Installing 90 packages: sitmo, bitops, GenomeInfoDbData, RCurl, IRanges, S4Vectors, BiocGenerics, proxy, wk, e1071, units, s2, classInt, warp, parallelly, listenv, globals, future, lazyeval, Rhdf5lib, rhdf5filters, textshaping, beeswarm, matrixStats, MatrixGenerics, formatR, futile.options, lambda.r, DelayedArray, zlibbioc, Biobase, XVector, GenomeInfoDb, sparseMatrixStats, snow, futile.logger, beachmat, DelayedMatrixStats, SummarizedExperiment, GenomicRanges, BiocParallel, SingleCellExperiment, rsvd, ScaledMatrix, RcppHNSW, dqrng, RcppProgress, RcppAnnoy, FNN, deldir, sf, spData, slider, furrr, data.table, crosstalk, zoo, nloptr, minqa, rhdf5, ragg, png, ggbeeswarm, Cairo, ResidualMatrix, scuttle, BiocSingular, BiocNeighbors, terra, uwot, speedglm, spdep, slam, Rtsne, RhpcBLASctl, rsample, RANN, pscl, plotly, pheatmap, pbmcapply, pbapply, lmtest, lme4, limma, leidenbase, HDF5Array, grr, ggrastr, batchelor\n",
            "\n",
            "Installing packages into ‘/usr/local/lib/R/site-library’\n",
            "(as ‘lib’ is unspecified)\n",
            "\n",
            "Warning message in i.p(...):\n",
            "“installation of package ‘textshaping’ had non-zero exit status”\n",
            "Warning message in i.p(...):\n",
            "“installation of package ‘Cairo’ had non-zero exit status”\n",
            "Warning message in i.p(...):\n",
            "“installation of package ‘s2’ had non-zero exit status”\n",
            "Warning message in i.p(...):\n",
            "“installation of package ‘future’ had non-zero exit status”\n",
            "Warning message in i.p(...):\n",
            "“installation of package ‘rhdf5filters’ had non-zero exit status”\n",
            "Warning message in i.p(...):\n",
            "“installation of package ‘MatrixGenerics’ had non-zero exit status”\n"
          ]
        }
      ]
    },
    {
      "cell_type": "code",
      "source": [
        "library(monocle3)"
      ],
      "metadata": {
        "colab": {
          "base_uri": "https://localhost:8080/",
          "height": 344
        },
        "id": "bQ6B3M7tHPgP",
        "outputId": "e5870486-e4ad-4762-e8ea-9e2bf4179aae"
      },
      "execution_count": null,
      "outputs": [
        {
          "output_type": "error",
          "ename": "ERROR",
          "evalue": "ignored",
          "traceback": [
            "Error in library(monocle3): there is no package called ‘monocle3’\nTraceback:\n",
            "1. library(monocle3)"
          ]
        }
      ]
    },
    {
      "cell_type": "code",
      "source": [],
      "metadata": {
        "id": "ElpHDoboK3cS"
      },
      "execution_count": null,
      "outputs": []
    },
    {
      "cell_type": "code",
      "source": [],
      "metadata": {
        "id": "oHen7kbVK3WU"
      },
      "execution_count": null,
      "outputs": []
    },
    {
      "cell_type": "code",
      "source": [],
      "metadata": {
        "id": "0nMFWMncK3T7"
      },
      "execution_count": null,
      "outputs": []
    },
    {
      "cell_type": "code",
      "source": [],
      "metadata": {
        "id": "t-GuQJGLK3Rf"
      },
      "execution_count": null,
      "outputs": []
    },
    {
      "cell_type": "code",
      "source": [],
      "metadata": {
        "id": "v_ICR5MDK3OQ"
      },
      "execution_count": null,
      "outputs": []
    },
    {
      "cell_type": "code",
      "source": [],
      "metadata": {
        "id": "Vnf7h-oNK3E6"
      },
      "execution_count": null,
      "outputs": []
    },
    {
      "cell_type": "code",
      "source": [
        "install.packages(\"Seurat\")\n",
        "install.packages(\"tidyverse\")\n",
        "library(Seurat)\n",
        "library(tidyverse)\n",
        "install.packages(\"hdf5r\")"
      ],
      "metadata": {
        "colab": {
          "base_uri": "https://localhost:8080/"
        },
        "id": "g04CV6MsgRIQ",
        "outputId": "fe5d462d-53cb-4cf1-c598-a2014e7b517b"
      },
      "execution_count": null,
      "outputs": [
        {
          "output_type": "stream",
          "name": "stderr",
          "text": [
            "Installing package into ‘/usr/local/lib/R/site-library’\n",
            "(as ‘lib’ is unspecified)\n",
            "\n",
            "Installing package into ‘/usr/local/lib/R/site-library’\n",
            "(as ‘lib’ is unspecified)\n",
            "\n",
            "Installing package into ‘/usr/local/lib/R/site-library’\n",
            "(as ‘lib’ is unspecified)\n",
            "\n"
          ]
        }
      ]
    },
    {
      "cell_type": "code",
      "source": [],
      "metadata": {
        "colab": {
          "base_uri": "https://localhost:8080/",
          "height": 153
        },
        "id": "dGoSx6Uz2RdQ",
        "outputId": "a3572a9f-21f7-4428-c1d0-fed083318c46"
      },
      "execution_count": null,
      "outputs": [
        {
          "output_type": "error",
          "ename": "ERROR",
          "evalue": "ignored",
          "traceback": [
            "Error in setwd(\"C:/Users/Roger Casals/OneDrive/Escriptori/UOC ROGER/TFM/PROVA\"): cannot change working directory\nTraceback:\n",
            "1. setwd(\"C:/Users/Roger Casals/OneDrive/Escriptori/UOC ROGER/TFM/PROVA\")"
          ]
        }
      ]
    },
    {
      "cell_type": "code",
      "source": [
        "\n",
        "\n",
        "str(nsclc.sparse.m)\n",
        "cts <- nsclc.sparse.m$`Gene Expression`\n",
        "\n",
        "#Iniciem l'objecte amb la data no normalitzada.\n",
        "nsclc.seurat.obj <- CreateSeuratObject(counts=cts, project=\"NSCLC\", min.cells=3, min.features=200)\n",
        "str(nsclc.seurat.obj)\n",
        "nsclc.seurat.obj\n",
        "\n",
        "\n",
        "#Comencem el QC\n",
        "\n",
        "#Calculem el patró dels gens que comencen per MT.  #Percentatge de mitocondrial genes.\n",
        "nsclc.seurat.obj[[\"percent.mt\"]] <- PercentageFeatureSet(nsclc.seurat.obj, pattern=\"^MT-\")\n",
        "View(nsclc.seurat.obj@meta.data)\n",
        "\n",
        "#Realitzem el plot, amb totes les columnes del metadata.\n",
        "VlnPlot(nsclc.seurat.obj, features = c(\"nFeature_RNA\", \"nCount_RNA\", \"percent.mt\"), ncol=3)\n",
        "FeatureScatter(nsclc.seurat.obj, feature1=\"nCount_RNA\", feature2=\"nFeature_RNA\") + geom_smooth(method=\"lm\")\n",
        "\n",
        "#Sembla que tenim moltes cel·lules que tenen molts gens, també tenim moltes celules que tenen molts RNA, també veiem que tenen moltes celules amb mitocondrial, això vol dir que potser no son de qualitat les celules.\n",
        "\n",
        "#Good quality cells, tenen un gran nombre de gens etc.\n",
        "\n",
        "#Per tant, gens vs transcrits, haurien de seguir la línia... veiem que bé.\n",
        "\n",
        "#No hauriem de veure res a baix a la dreta, ni a dalt a l'esquerre.\n",
        "\n",
        "\n",
        "#2.Filtratge ....\n",
        "\n",
        "nsclc.seurat.obj <- subset(nsclc.seurat.obj, subset = nFeature_RNA > 200 & nFeature_RNA <2500 & percent.mt < 5)\n",
        "\n",
        "\n",
        "\n",
        "#Normalitzem les dades\n",
        "\n",
        "nsclc.seurat.obj <- NormalizeData(nsclc.seurat.obj)\n",
        "\n",
        "#Ens mostra els comandaments que hem anat posant.\n",
        "str(nsclc.seurat.obj)\n",
        "\n",
        "\n",
        "\n",
        "#Identifiquem les variables altament features??\n",
        "\n",
        "nsclc.seurat.obj <- FindVariableFeatures(nsclc.seurat.obj, selection.method = \"vst\", nfeatures=2000)\n",
        "\n",
        "\n",
        "\n",
        "#Identifiquem els 10 gens més variables\n",
        "\n",
        "top10 <- head(VariableFeatures(nsclc.seurat.obj),10)\n",
        "top10\n",
        "\n",
        "\n",
        "\n",
        "#Fem el gràfic\n",
        "\n",
        "plot1 <- VariableFeaturePlot(nsclc.seurat.obj)\n",
        "LabelPoints(plot=plot1, points=top10, repel=TRUE)\n",
        "\n",
        "\n",
        "#El Top10 son els que observem, els vermells, son els top2000 que hem vist amb el findvariable.\n",
        "\n",
        "\n",
        "\n",
        "#Hem de fer l'escalatge\n",
        "\n",
        "all.genes <- rownames(nsclc.seurat.obj)\n",
        "nsclc.seurat.obj <- ScaleData(nsclc.seurat.obj, features=all.genes)"
      ],
      "metadata": {
        "id": "CGJKUp7re0kE",
        "outputId": "80d23539-752e-4b5a-cf35-c14cf719c56c",
        "colab": {
          "base_uri": "https://localhost:8080/"
        }
      },
      "execution_count": null,
      "outputs": [
        {
          "output_type": "stream",
          "name": "stderr",
          "text": [
            "Installing package into ‘/usr/local/lib/R/site-library’\n",
            "(as ‘lib’ is unspecified)\n",
            "\n",
            "also installing the dependencies ‘bitops’, ‘gtools’, ‘caTools’, ‘plyr’, ‘tensor’, ‘BH’, ‘sitmo’, ‘globals’, ‘listenv’, ‘parallelly’, ‘zoo’, ‘htmlwidgets’, ‘lazyeval’, ‘crosstalk’, ‘promises’, ‘RcppTOML’, ‘here’, ‘gplots’, ‘reshape2’, ‘gridExtra’, ‘RcppArmadillo’, ‘sp’, ‘httpuv’, ‘xtable’, ‘fontawesome’, ‘sourcetools’, ‘later’, ‘spatstat.data’, ‘spatstat.random’, ‘spatstat.utils’, ‘spatstat.sparse’, ‘goftest’, ‘abind’, ‘deldir’, ‘polyclip’, ‘FNN’, ‘dqrng’, ‘cowplot’, ‘fitdistrplus’, ‘future’, ‘future.apply’, ‘ggrepel’, ‘ggridges’, ‘ica’, ‘igraph’, ‘irlba’, ‘leiden’, ‘lmtest’, ‘matrixStats’, ‘miniUI’, ‘patchwork’, ‘pbapply’, ‘plotly’, ‘png’, ‘progressr’, ‘RANN’, ‘Rcpp’, ‘RcppAnnoy’, ‘reticulate’, ‘ROCR’, ‘Rtsne’, ‘scattermore’, ‘sctransform’, ‘SeuratObject’, ‘shiny’, ‘spatstat.explore’, ‘spatstat.geom’, ‘uwot’, ‘RcppEigen’, ‘RcppProgress’\n",
            "\n",
            "\n",
            "Warning message in install.packages(\"Seurat\"):\n",
            "“installation of package ‘BH’ had non-zero exit status”\n",
            "Warning message in install.packages(\"Seurat\"):\n",
            "“installation of package ‘globals’ had non-zero exit status”\n",
            "Warning message in install.packages(\"Seurat\"):\n",
            "“installation of package ‘polyclip’ had non-zero exit status”\n",
            "Warning message in install.packages(\"Seurat\"):\n",
            "“installation of package ‘FNN’ had non-zero exit status”\n",
            "Warning message in install.packages(\"Seurat\"):\n",
            "“installation of package ‘cowplot’ had non-zero exit status”\n",
            "Warning message in install.packages(\"Seurat\"):\n",
            "“installation of package ‘fitdistrplus’ had non-zero exit status”\n",
            "Warning message in install.packages(\"Seurat\"):\n",
            "“installation of package ‘ggridges’ had non-zero exit status”\n",
            "Warning message in install.packages(\"Seurat\"):\n",
            "“installation of package ‘ica’ had non-zero exit status”\n"
          ]
        }
      ]
    }
  ]
}